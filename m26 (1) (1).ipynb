{
 "cells": [
  {
   "cell_type": "code",
   "execution_count": 1,
   "id": "7b35d11e-92d9-4f5f-bf8c-4ed38815f9c7",
   "metadata": {},
   "outputs": [
    {
     "name": "stdout",
     "output_type": "stream",
     "text": [
      "   id_client     Category   Price   Card Type First_name       Gender  \\\n",
      "0         37  Electronics   72,93  mastercard     Cornie  Genderqueer   \n",
      "1         38      Jewelry  121,89  mastercard        Rab         Male   \n",
      "2         39         Baby    64,3  mastercard      Codie       Female   \n",
      "3         40     Outdoors    9,48  mastercard      Scott       Female   \n",
      "4          5     Outdoors   61,95  mastercard     Tanney       Female   \n",
      "\n",
      "           Job_Title state_name  \n",
      "0             Editor         ND  \n",
      "1  Assistant Manager         PA  \n",
      "2  Financial Analyst         MA  \n",
      "3     Civil Engineer         OR  \n",
      "4       VP Marketing         MN  \n"
     ]
    }
   ],
   "source": [
    "import sqlite3\n",
    "import pandas as pd\n",
    "\n",
    "# Carregando os CSVs\n",
    "df_transacoes = pd.read_csv(\"TB_TRANSACOES_PROJETO_ECOMM.csv\", delimiter=';')\n",
    "df_clientes = pd.read_csv(\"TB_CLIENTES_PROJETO_ECOMM.csv\", delimiter=';')\n",
    "\n",
    "# Conectando ao banco SQLite\n",
    "conn = sqlite3.connect('projeto.db')\n",
    "\n",
    "# Salvando os DataFrames como tabelas no banco\n",
    "df_transacoes.to_sql('tb_transacoes', conn, index=False, if_exists='replace')\n",
    "df_clientes.to_sql('tb_clientes', conn, index=False, if_exists='replace')\n",
    "\n",
    "# Função para rodar consultas\n",
    "def run_query(query):\n",
    "    return pd.read_sql_query(query, conn)\n",
    "\n",
    "# Consulta SQL com INNER JOIN\n",
    "query = \"\"\"\n",
    "SELECT \n",
    "    t.id_client,\n",
    "    t.Category,\n",
    "    t.Price,\n",
    "    t.[Card Type],\n",
    "\n",
    "    c.First_name,\n",
    "    c.Gender,\n",
    "    c.Job_Title,\n",
    "    c.state_name\n",
    "\n",
    "FROM tb_transacoes t\n",
    "INNER JOIN tb_clientes c\n",
    "ON t.id_client = c.Id_client;\n",
    "\"\"\"\n",
    "# Utilizamos o INNER JOIN porque queremos apenas combinar as transações com clientes existentes nos dois conjuntos de dados.\n",
    "# Se uma transação não tiver um cliente correspondente, ou um cliente não tiver realizado nenhuma transação, esses registros não são relevantes para nossa análise combinada.\n",
    "\n",
    "# Executar a consulta e salvar em DataFrame\n",
    "result_df = run_query(query)\n",
    "\n",
    "# Visualizar as primeiras linhas (opcional)\n",
    "print(result_df.head())\n",
    "\n",
    "# Exportar o DataFrame consolidado para CSV\n",
    "result_df.to_csv(\"BASE_COMBINADA_ECOMM.csv\", index=False, sep=';')\n",
    "\n",
    "# Fechar a conexão com o banco\n",
    "conn.close()\n"
   ]
  },
  {
   "cell_type": "code",
   "execution_count": null,
   "id": "db059d84-3837-433d-97d1-115a126c1230",
   "metadata": {},
   "outputs": [],
   "source": []
  },
  {
   "cell_type": "code",
   "execution_count": null,
   "id": "f7b9648a-d3eb-465b-85ff-365970c8f994",
   "metadata": {},
   "outputs": [],
   "source": []
  }
 ],
 "metadata": {
  "kernelspec": {
   "display_name": "Python 3 (ipykernel)",
   "language": "python",
   "name": "python3"
  },
  "language_info": {
   "codemirror_mode": {
    "name": "ipython",
    "version": 3
   },
   "file_extension": ".py",
   "mimetype": "text/x-python",
   "name": "python",
   "nbconvert_exporter": "python",
   "pygments_lexer": "ipython3",
   "version": "3.13.2"
  }
 },
 "nbformat": 4,
 "nbformat_minor": 5
}
